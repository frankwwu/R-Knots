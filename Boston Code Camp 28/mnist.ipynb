{
 "cells": [
  {
   "cell_type": "markdown",
   "metadata": {},
   "source": [
    "# Using a sequential model"
   ]
  },
  {
   "cell_type": "code",
   "execution_count": 5,
   "metadata": {
    "collapsed": false
   },
   "outputs": [],
   "source": [
    "%matplotlib inline\n",
    "import keras\n",
    "from keras.datasets import mnist\n",
    "from keras.models import Sequential\n",
    "from keras.layers import Dense, Dropout\n",
    "from keras.optimizers import RMSprop\n",
    "from __future__ import print_function\n",
    "import matplotlib.pyplot as plt"
   ]
  },
  {
   "cell_type": "code",
   "execution_count": 6,
   "metadata": {
    "collapsed": false
   },
   "outputs": [],
   "source": [
    "# get MNIST dataset\n",
    "(x_train, y_train), (x_test, y_test) = mnist.load_data()\n",
    "\n",
    "# input image dimensions\n",
    "img_rows, img_cols = 28, 28"
   ]
  },
  {
   "cell_type": "code",
   "execution_count": 7,
   "metadata": {
    "collapsed": false
   },
   "outputs": [
    {
     "data": {
      "image/png": "[encoded data removed]",
      "text/plain": [
       "<matplotlib.figure.Figure at 0x1a54391bdd8>"
      ]
     },
     "metadata": {},
     "output_type": "display_data"
    }
   ],
   "source": [
    "# display a few training images\n",
    "plt.subplot(331)\n",
    "plt.imshow(x_train[0].reshape(img_rows,img_cols), cmap=plt.get_cmap('gray'))\n",
    "plt.subplot(332)\n",
    "plt.imshow(x_train[1].reshape(img_rows,img_cols), cmap=plt.get_cmap('gray'))\n",
    "plt.subplot(333)\n",
    "plt.imshow(x_train[2].reshape(img_rows,img_cols), cmap=plt.get_cmap('gray'))\n",
    "# show the plot\n",
    "plt.show()"
   ]
  },
  {
   "cell_type": "code",
   "execution_count": 8,
   "metadata": {
    "collapsed": false,
    "deletable": true,
    "editable": true
   },
   "outputs": [
    {
     "name": "stdout",
     "output_type": "stream",
     "text": [
      "60000 train samples\n",
      "10000 test samples\n"
     ]
    }
   ],
   "source": [
    "input_shape = img_rows * img_cols\n",
    "\n",
    "# convert the 3-d arrays into matrices. 28x28 images are flattened into length 784 vectors.\n",
    "x_train = x_train.reshape(60000, input_shape)\n",
    "x_test = x_test.reshape(10000, input_shape)\n",
    "x_train = x_train.astype('float32')\n",
    "x_test = x_test.astype('float32')\n",
    "\n",
    "# convert the grayscale values from integers ranging between 0 to 255 into floating point values ranging between 0 and 1.\n",
    "x_train /= 255\n",
    "x_test /= 255\n",
    "\n",
    "print(x_train.shape[0], 'train samples')\n",
    "print(x_test.shape[0], 'test samples')"
   ]
  },
  {
   "cell_type": "code",
   "execution_count": 9,
   "metadata": {
    "collapsed": false,
    "deletable": true,
    "editable": true
   },
   "outputs": [],
   "source": [
    "# one-hot encode the y integer vectors into binary class matrices\n",
    "num_classes = 10\n",
    "y_train = keras.utils.to_categorical(y_train, num_classes)\n",
    "y_test = keras.utils.to_categorical(y_test, num_classes)"
   ]
  },
  {
   "cell_type": "code",
   "execution_count": 10,
   "metadata": {
    "collapsed": true,
    "deletable": true,
    "editable": true
   },
   "outputs": [],
   "source": [
    "model = Sequential()\n",
    "model.add(Dense(512, activation='relu', input_shape=(input_shape,)))\n",
    "model.add(Dropout(0.2))\n",
    "model.add(Dense(512, activation='relu'))\n",
    "model.add(Dropout(0.2))\n",
    "model.add(Dense(num_classes, activation='softmax'))"
   ]
  },
  {
   "cell_type": "code",
   "execution_count": 11,
   "metadata": {
    "collapsed": false,
    "deletable": true,
    "editable": true
   },
   "outputs": [
    {
     "name": "stdout",
     "output_type": "stream",
     "text": [
      "_________________________________________________________________\n",
      "Layer (type)                 Output Shape              Param #   \n",
      "=================================================================\n",
      "dense_1 (Dense)              (None, 512)               401920    \n",
      "_________________________________________________________________\n",
      "dropout_1 (Dropout)          (None, 512)               0         \n",
      "_________________________________________________________________\n",
      "dense_2 (Dense)              (None, 512)               262656    \n",
      "_________________________________________________________________\n",
      "dropout_2 (Dropout)          (None, 512)               0         \n",
      "_________________________________________________________________\n",
      "dense_3 (Dense)              (None, 10)                5130      \n",
      "=================================================================\n",
      "Total params: 669,706\n",
      "Trainable params: 669,706\n",
      "Non-trainable params: 0\n",
      "_________________________________________________________________\n"
     ]
    }
   ],
   "source": [
    "model.summary()"
   ]
  },
  {
   "cell_type": "code",
   "execution_count": 12,
   "metadata": {
    "collapsed": false,
    "deletable": true,
    "editable": true
   },
   "outputs": [],
   "source": [
    "model.compile(loss=keras.losses.categorical_crossentropy, optimizer=RMSprop(), metrics=['accuracy'])"
   ]
  },
  {
   "cell_type": "code",
   "execution_count": 13,
   "metadata": {
    "collapsed": false,
    "deletable": true,
    "editable": true
   },
   "outputs": [
    {
     "name": "stdout",
     "output_type": "stream",
     "text": [
      "Train on 60000 samples, validate on 10000 samples\n",
      "Epoch 1/15\n",
      "60000/60000 [==============================] - 15s - loss: 0.2492 - acc: 0.9232 - val_loss: 0.1052 - val_acc: 0.9672\n",
      "Epoch 2/15\n",
      "60000/60000 [==============================] - 18s - loss: 0.1049 - acc: 0.9685 - val_loss: 0.0823 - val_acc: 0.9747\n",
      "Epoch 3/15\n",
      "60000/60000 [==============================] - 20s - loss: 0.0761 - acc: 0.9769 - val_loss: 0.0830 - val_acc: 0.9764\n",
      "Epoch 4/15\n",
      "60000/60000 [==============================] - 18s - loss: 0.0605 - acc: 0.9815 - val_loss: 0.0776 - val_acc: 0.9783\n",
      "Epoch 5/15\n",
      "60000/60000 [==============================] - 18s - loss: 0.0507 - acc: 0.9844 - val_loss: 0.0764 - val_acc: 0.9790\n",
      "Epoch 6/15\n",
      "60000/60000 [==============================] - 18s - loss: 0.0434 - acc: 0.9870 - val_loss: 0.0830 - val_acc: 0.9813\n",
      "Epoch 7/15\n",
      "60000/60000 [==============================] - 18s - loss: 0.0387 - acc: 0.9885 - val_loss: 0.0856 - val_acc: 0.9808\n",
      "Epoch 8/15\n",
      "60000/60000 [==============================] - 18s - loss: 0.0353 - acc: 0.9896 - val_loss: 0.0809 - val_acc: 0.9810\n",
      "Epoch 9/15\n",
      "60000/60000 [==============================] - 21s - loss: 0.0325 - acc: 0.9909 - val_loss: 0.0806 - val_acc: 0.9832\n",
      "Epoch 10/15\n",
      "60000/60000 [==============================] - 17s - loss: 0.0289 - acc: 0.9915 - val_loss: 0.0900 - val_acc: 0.9813\n",
      "Epoch 11/15\n",
      "60000/60000 [==============================] - 17s - loss: 0.0260 - acc: 0.9923 - val_loss: 0.0981 - val_acc: 0.9814\n",
      "Epoch 12/15\n",
      "60000/60000 [==============================] - 16s - loss: 0.0263 - acc: 0.9929 - val_loss: 0.0915 - val_acc: 0.9823\n",
      "Epoch 13/15\n",
      "60000/60000 [==============================] - 18s - loss: 0.0230 - acc: 0.9934 - val_loss: 0.0868 - val_acc: 0.9854\n",
      "Epoch 14/15\n",
      "60000/60000 [==============================] - 15s - loss: 0.0223 - acc: 0.9940 - val_loss: 0.0979 - val_acc: 0.9825\n",
      "Epoch 15/15\n",
      "60000/60000 [==============================] - 17s - loss: 0.0217 - acc: 0.9945 - val_loss: 0.0973 - val_acc: 0.9829\n"
     ]
    }
   ],
   "source": [
    "history = model.fit(x_train, y_train, batch_size=128, epochs=15, verbose=1, validation_data=(x_test, y_test))"
   ]
  },
  {
   "cell_type": "code",
   "execution_count": 14,
   "metadata": {
    "collapsed": false
   },
   "outputs": [
    {
     "name": "stdout",
     "output_type": "stream",
     "text": [
      "dict_keys(['val_loss', 'val_acc', 'loss', 'acc'])\n"
     ]
    },
    {
     "data": {
      "image/png": "[encoded data removed]",
      "text/plain": [
       "<matplotlib.figure.Figure at 0x1a543b22048>"
      ]
     },
     "metadata": {},
     "output_type": "display_data"
    },
    {
     "data": {
      "image/png": "[encoded data removed]",
      "text/plain": [
       "<matplotlib.figure.Figure at 0x1a5439a7208>"
      ]
     },
     "metadata": {},
     "output_type": "display_data"
    }
   ],
   "source": [
    "# list all data in history\n",
    "print(history.history.keys())\n",
    "# summarize history for accuracy\n",
    "plt.plot(history.history['acc'])\n",
    "plt.plot(history.history['val_acc'])\n",
    "plt.title('model accuracy')\n",
    "plt.ylabel('accuracy')\n",
    "plt.xlabel('epoch')\n",
    "plt.legend(['train', 'test'], loc='upper left')\n",
    "plt.show()\n",
    "# summarize history for loss\n",
    "plt.plot(history.history['loss'])\n",
    "plt.plot(history.history['val_loss'])\n",
    "plt.title('model loss')\n",
    "plt.ylabel('loss')\n",
    "plt.xlabel('epoch')\n",
    "plt.legend(['train', 'test'], loc='upper left')\n",
    "plt.show()"
   ]
  },
  {
   "cell_type": "code",
   "execution_count": 15,
   "metadata": {
    "collapsed": false,
    "deletable": true,
    "editable": true
   },
   "outputs": [
    {
     "name": "stdout",
     "output_type": "stream",
     "text": [
      "Test loss: 0.0972796069087\n",
      "Test accuracy: 0.9829\n"
     ]
    }
   ],
   "source": [
    "score = model.evaluate(x_test, y_test, verbose=0)\n",
    "print('Test loss:', score[0])\n",
    "print('Test accuracy:', score[1])"
   ]
  },
  {
   "cell_type": "code",
   "execution_count": 16,
   "metadata": {
    "collapsed": false
   },
   "outputs": [
    {
     "name": "stdout",
     "output_type": "stream",
     "text": [
      " 9978/10000 [============================>.] - ETA: 0s[7 2 1 ..., 4 5 6]\n"
     ]
    }
   ],
   "source": [
    "classes = model.predict_classes(x_test, batch_size=1)\n",
    "print(classes)"
   ]
  },
  {
   "cell_type": "code",
   "execution_count": 18,
   "metadata": {
    "collapsed": false
   },
   "outputs": [
    {
     "data": {
      "image/png": "[encoded data removed]",
      "text/plain": [
       "<matplotlib.figure.Figure at 0x1a53f198cc0>"
      ]
     },
     "metadata": {},
     "output_type": "display_data"
    }
   ],
   "source": [
    "# display a few test images\n",
    "plt.subplot(331)\n",
    "plt.imshow(x_test[0].reshape(img_rows,img_cols), cmap=plt.get_cmap('gray'))\n",
    "plt.subplot(332)\n",
    "plt.imshow(x_test[1].reshape(img_rows,img_cols), cmap=plt.get_cmap('gray'))\n",
    "plt.subplot(333)\n",
    "plt.imshow(x_test[2].reshape(img_rows,img_cols), cmap=plt.get_cmap('gray'))\n",
    "# show the plot\n",
    "plt.show()"
   ]
  },
  {
   "cell_type": "code",
   "execution_count": null,
   "metadata": {
    "collapsed": true
   },
   "outputs": [],
   "source": []
  }
 ],
 "metadata": {
  "anaconda-cloud": {},
  "celltoolbar": "Raw Cell Format",
  "kernelspec": {
   "display_name": "Python [Root]",
   "language": "python",
   "name": "Python [Root]"
  },
  "language_info": {
   "codemirror_mode": {
    "name": "ipython",
    "version": 3
   },
   "file_extension": ".py",
   "mimetype": "text/x-python",
   "name": "python",
   "nbconvert_exporter": "python",
   "pygments_lexer": "ipython3",
   "version": "3.5.2"
  }
 },
 "nbformat": 4,
 "nbformat_minor": 1
}
